{
 "cells": [
  {
   "cell_type": "markdown",
   "metadata": {},
   "source": [
    "# Introduction "
   ]
  },
  {
   "cell_type": "markdown",
   "metadata": {},
   "source": [
    "# Software Imports and Plot Settings "
   ]
  },
  {
   "cell_type": "code",
   "execution_count": 2,
   "metadata": {},
   "outputs": [],
   "source": [
    "# then third party libraries\n",
    "import matplotlib as mpl\n",
    "import matplotlib.pyplot as plt\n",
    "from matplotlib.ticker import MaxNLocator\n",
    "from matplotlib.ticker import MultipleLocator, LogLocator\n",
    "import numpy as np\n",
    "import pandas as pd\n",
    "from pandas.plotting import register_matplotlib_converters\n",
    "register_matplotlib_converters()"
   ]
  },
  {
   "cell_type": "code",
   "execution_count": 3,
   "metadata": {},
   "outputs": [],
   "source": [
    "# jupyter notebook extras\n",
    "%matplotlib inline \n",
    "%load_ext autoreload\n",
    "%autoreload 2\n",
    "\n",
    "# set plotting parameters\n",
    "mpl.rcParams['axes.titlesize'] = 20\n",
    "mpl.rcParams['axes.labelsize'] = 18\n",
    "mpl.rcParams['xtick.labelsize'] = 16\n",
    "mpl.rcParams['ytick.labelsize'] = 16\n",
    "mpl.rcParams['legend.fontsize'] = 16\n",
    "mpl.rcParams['figure.figsize'] = (12, 8)\n",
    "mpl.rcParams['axes.grid'] = False"
   ]
  },
  {
   "cell_type": "markdown",
   "metadata": {},
   "source": [
    "# Data Inputs"
   ]
  },
  {
   "cell_type": "markdown",
   "metadata": {},
   "source": [
    "## Import Load and Generation Data"
   ]
  },
  {
   "cell_type": "code",
   "execution_count": 4,
   "metadata": {},
   "outputs": [],
   "source": [
    "excel_file = 'SMHS_SBUSD_ESDMrev32c (01_mk, 26May2020).xlsx'\n",
    "load_sheet = 'Data_Load_15min'\n",
    "pv_generation_sheet = 'Data_PV_Gen_15min'"
   ]
  },
  {
   "cell_type": "code",
   "execution_count": 5,
   "metadata": {},
   "outputs": [],
   "source": [
    "load = pd.read_excel(excel_file, sheet_name=load_sheet)\n",
    "load.columns = ['datetime', 'usage_kwh', 'usage_kw', 'del1', 'del2', 'del3', 'del4']\n",
    "\n",
    "for column in load.columns:\n",
    "    if column.startswith('del'):\n",
    "        del load[column]"
   ]
  },
  {
   "cell_type": "code",
   "execution_count": 6,
   "metadata": {},
   "outputs": [],
   "source": [
    "pv_generation = pd.read_excel(excel_file, sheet_name=pv_generation_sheet, skiprows=2)\n",
    "pv_generation.columns = ['datetime', 'del1', 'pv_generation_kw', 'del2', 'del3', 'del4']\n",
    "\n",
    "for column in pv_generation.columns:\n",
    "    if column.startswith('del'):\n",
    "        del pv_generation[column]"
   ]
  },
  {
   "cell_type": "code",
   "execution_count": 115,
   "metadata": {},
   "outputs": [],
   "source": [
    "model = pv_generation.copy()\n",
    "model['pv_generation'] = model['pv_generation_kw'] / 4\n",
    "model['load'] = load['usage_kwh']\n",
    "del model['pv_generation_kw']"
   ]
  },
  {
   "cell_type": "code",
   "execution_count": 116,
   "metadata": {},
   "outputs": [],
   "source": [
    "def round_dates(row):\n",
    "    return row['datetime'].round('1min')\n",
    "    \n",
    "model['datetime'] = model.apply(lambda row : round_dates(row), axis=1)"
   ]
  },
  {
   "cell_type": "markdown",
   "metadata": {},
   "source": [
    "# Model Inputs"
   ]
  },
  {
   "cell_type": "code",
   "execution_count": 92,
   "metadata": {},
   "outputs": [],
   "source": [
    "tier_1_percent = 0.0284\n",
    "look_ahead_interval = 96\n",
    "battery_charging_loss = 0.05\n",
    "battery_discharging_loss = 0.05\n",
    "start_peak_time_of_use = 16\n",
    "end_peak_time_of_use = 21\n",
    "hold_battery_discharge_until = 16\n",
    "minimum_forecast_battery_discharge = 1500\n",
    "\n",
    "battery_power = 355\n",
    "battery_capacity = 710  # kwh\n",
    "intervals_per_hour = 4\n",
    "pv_to_grid_export_threshold = battery_power / (intervals_per_hour * 2)\n",
    "battery_max_export_15min = battery_power / 4\n",
    "export_only_during_summer = True"
   ]
  },
  {
   "cell_type": "markdown",
   "metadata": {},
   "source": [
    "# Resilience Calculations\n",
    "\n",
    "## Old Complicated Logic\n",
    "**Idea:** This calculation is unnecessarily complicated. What it effectively does is that it looks ahead in the next 24 hours, and adds all Tier 1 loads between 9pm and the time in the morning when the sun starts shining, and calls this the SOCr. The basic idea here is that any load that any load in the next 24 hours not met by the pv generation in that interval should be added to the SOCr. However, the 9pm cutoff actually interferes with even this basic calculation. Also, this calculation does not account for the fact that the battery can be charged after grid disconnect. <br><br>\n",
    "\n",
    "## Simplified Logic\n",
    "**Idea:** The thought behind this calculation is to look at each interval in the next day (the `look_ahead_period`). If the solar generation does not cover the total tier 1 load during this period, we add that load to the SOCr value. This calculation does not account for the fact that the battery can be charged after grid disconnect.<br><br>\n",
    "**Logic (Pseudo code):** \n",
    "```\n",
    "At given Interval:\n",
    "SOCr = 0\n",
    "\n",
    "For each interval in look ahead period:\n",
    "\n",
    "    If (PV generation < Tier 1 Load):\n",
    "    \n",
    "        Add Tier 1 Load to SOCr\n",
    "```"
   ]
  },
  {
   "cell_type": "code",
   "execution_count": 93,
   "metadata": {},
   "outputs": [],
   "source": [
    "def is_battery_reserve_needed(row):\n",
    "    return row['pv_generation'] < row['load'] * tier_1_percent\n",
    "\n",
    "model['is_battery_needed'] = model.apply(lambda row : is_battery_reserve_needed(row), axis=1)\n",
    "\n",
    "model['old_socr'] = (\n",
    "    (model['load'] * model['is_battery_needed'])\n",
    "    .iloc[::-1].rolling(look_ahead_interval, min_periods=1)\n",
    "    .sum().iloc[::-1] * tier_1_percent)"
   ]
  },
  {
   "cell_type": "markdown",
   "metadata": {},
   "source": [
    "## New SOCr\n",
    "\n",
    "**Idea:** For the interval we are calculating at, assume grid disconnection happens at that interval. We need to account for how the battery gets charged after grid disconnection. <br>\n",
    "For each interval in the next day (the `look_ahead_period`) we first see whether the battery has charged enough (after disconnection) to power the critical Tier 1 load. If not, we add the load to the SOCr value. We then add PV generation in that interval to the battery charge (after disconnection).\n",
    "<br><br>\n",
    "**Logic (Pseudo code):** \n",
    "```\n",
    "At given Interval:\n",
    "SOCr = 0\n",
    "battery charge after disconnect = 0\n",
    "\n",
    "For each interval in look ahead period:\n",
    "\n",
    "    If (battery charge after disconnect > Tier 1 Load):\n",
    "    \n",
    "        subtract tier 1 load from battery charge\n",
    "    \n",
    "    Else (battery charge after disconnect <= Tier 1 Load):\n",
    "    \n",
    "        Add Tier 1 load - remaining battery to SOCr\n",
    "        Reset battery charge after disconnect to 0\n",
    "        \n",
    "    Add PV generation in interval to battery charge after disconnect\n",
    "    \n",
    "```"
   ]
  },
  {
   "cell_type": "code",
   "execution_count": 94,
   "metadata": {},
   "outputs": [],
   "source": [
    "def calculate_socr():\n",
    "\n",
    "    load = model['load'].to_numpy()\n",
    "    pv = model['pv_generation'].to_numpy()\n",
    "    socr = np.zeros(len(model))\n",
    "\n",
    "    for i in range(len(load)):\n",
    "        battery = 0\n",
    "        reserve_needed = 0\n",
    "\n",
    "        for j in range(i, min(i + look_ahead_interval, len(load))):\n",
    "\n",
    "            #print(j)\n",
    "\n",
    "            tier_1_load = load[j] * tier_1_percent\n",
    "\n",
    "            if (battery > tier_1_load):\n",
    "                battery -= tier_1_load\n",
    "                #print(j)\n",
    "            else:\n",
    "                reserve_needed += (tier_1_load - battery)\n",
    "                battery = 0\n",
    "\n",
    "            battery = min((pv[j] + battery), battery_capacity)\n",
    "\n",
    "           # print(reserve_needed, old_reserve_needed)\n",
    "\n",
    "        socr[i] = reserve_needed\n",
    "        \n",
    "    return socr\n",
    "\n",
    "model['new_socr'] = calculate_socr()"
   ]
  },
  {
   "cell_type": "code",
   "execution_count": 95,
   "metadata": {},
   "outputs": [
    {
     "data": {
      "image/png": "[encoded data removed]",
      "text/plain": [
       "<Figure size 864x576 with 1 Axes>"
      ]
     },
     "metadata": {
      "needs_background": "light"
     },
     "output_type": "display_data"
    }
   ],
   "source": [
    "start_date = '2019-01-31'\n",
    "end_date = '2019-02-04'\n",
    "\n",
    "df = model[(model['datetime'] >= '2019-01-31') & (model['datetime'] <= '2019-02-04')]\n",
    "\n",
    "plt.figure()\n",
    "plt.plot(df['datetime'], df['pv_generation'], color='#eeb400', label='PV Generation')\n",
    "plt.fill_between(df['datetime'], df['pv_generation'], color='#eeb400', alpha = 0.6)\n",
    "plt.plot(df['datetime'], df['load'], color='#6d6d6d', label='Load')\n",
    "plt.fill_between(df['datetime'],df['load'], color='#6d6d6d', alpha = 0.6)\n",
    "plt.plot(df['datetime'], df['new_socr'], color='#f20b0b', label='New SOCr')\n",
    "plt.plot(df['datetime'], df['old_socr'], color='#220597', label='Old SOCr')\n",
    "plt.title(f'Battery Profile \\n\\n{start_date} - {end_date}')\n",
    "plt.xlabel('Date / Time')\n",
    "plt.xticks(rotation='315')\n",
    "plt.ylabel('Power [kWh]')\n",
    "plt.legend()\n",
    "plt.tight_layout()\n",
    "#plt.savefig('new_socr.png')"
   ]
  },
  {
   "cell_type": "markdown",
   "metadata": {},
   "source": [
    "# PV and Load Calculations\n",
    "In this section, we calculate how much PV goes to the power the load, how much is in excess of the load, or how much load is not met by the PV generation. We can do this without knowing anythin about the battery since our solar power will first go to power our load before any battery charging or grid dispatch."
   ]
  },
  {
   "cell_type": "markdown",
   "metadata": {},
   "source": [
    "## PV to Load\n",
    "\n",
    "Logic: If PV generation is less than load, all of it goes to the load. If PV generation is more than the load, it convers the entire load, and then there is excess.\n",
    "<br><br>\n",
    "Pseudocode:\n",
    "```\n",
    "For each interval:\n",
    "Return minimum of load and pv generation\n",
    "```"
   ]
  },
  {
   "cell_type": "code",
   "execution_count": 96,
   "metadata": {},
   "outputs": [],
   "source": [
    "def pv_to_load(row):\n",
    "    return min(row['load'], row['pv_generation'])\n",
    "\n",
    "model['pv_to_load'] = model.apply(lambda row : pv_to_load(row), axis=1)"
   ]
  },
  {
   "cell_type": "markdown",
   "metadata": {},
   "source": [
    "## Unserved Load\n",
    "Logic: Any load not met by solar power\n",
    "<br><br>\n",
    "Pseudocode:\n",
    "```\n",
    "For each interval:\n",
    "Return load - pv_to_load.\n",
    "```"
   ]
  },
  {
   "cell_type": "code",
   "execution_count": 97,
   "metadata": {},
   "outputs": [],
   "source": [
    "model['unserved_load'] = model['load'] - model['pv_to_load']"
   ]
  },
  {
   "cell_type": "markdown",
   "metadata": {},
   "source": [
    "## Excess PV\n",
    "Logic: Any generation in excess of the elctrical load.\n",
    "<br><br>\n",
    "Pseudocode:\n",
    "```\n",
    "For each interval:\n",
    "Return maximum of solar generation minus load, or zero.\n",
    "```"
   ]
  },
  {
   "cell_type": "code",
   "execution_count": 98,
   "metadata": {},
   "outputs": [],
   "source": [
    "def excess_pv(row):\n",
    "    return max(row['pv_generation'] - row['load'], 0)\n",
    "\n",
    "model['excess_pv'] = model.apply(lambda row : excess_pv(row), axis=1)"
   ]
  },
  {
   "cell_type": "markdown",
   "metadata": {},
   "source": [
    "# Battery Calculations\n",
    "Now we can look at how the battery interacts with solar generation and the grid. These calculations are really the result of design decisions, and might need to be changed for your application.\n",
    "\n",
    "The battery can do multiple things. It must maintain a minimum amount of charge for resilience purposes, the State of Charge needed for Reslience or SOCr. It can power the electrical load, it can be charged by both the PV system and the grid and it can dispatch to the grid."
   ]
  },
  {
   "cell_type": "markdown",
   "metadata": {},
   "source": [
    "## Battery State of Charge\n",
    "We start with the Battery State of Charge (SOC), basically, the amount of energy a battery has stored in it.\n",
    "\n",
    "Logic: The battery charge in the current inverval is the battery charge in the previous interval, plus energy transfered to the battery from the pv system, minus the battery charge that went to the electrical load and the grid in the previous interval."
   ]
  },
  {
   "cell_type": "code",
   "execution_count": 99,
   "metadata": {},
   "outputs": [],
   "source": [
    "def get_battery_soc(i):\n",
    "    ''' Return the battery state of charge in interval i '''\n",
    "    if (i == 1):\n",
    "        return battery_soc_initial\n",
    "    else:\n",
    "        return (battery_SOC[i - 1] - battery_to_load[i - 1] - battery_to_grid[i - 1] + battery_charge_from_pv[i - 1])"
   ]
  },
  {
   "cell_type": "markdown",
   "metadata": {},
   "source": [
    "## Battery Usable State of Charge\n",
    "Batteries lose energy each time they charge and discharge. So, the usable energy is actually less than the charge\n",
    "\n",
    "Logic: usable SOC is SOC minus discharge losses (`battery_discharge_loss`)"
   ]
  },
  {
   "cell_type": "code",
   "execution_count": 100,
   "metadata": {},
   "outputs": [],
   "source": [
    "def get_battery_soc_usable(i):\n",
    "     return battery_SOC[i] * (1 - battery_discharging_loss)"
   ]
  },
  {
   "cell_type": "markdown",
   "metadata": {},
   "source": [
    "## Battery to Load\n",
    "We start with how much battery power is used to power the load. "
   ]
  },
  {
   "cell_type": "markdown",
   "metadata": {},
   "source": [
    "### Old Calculation\n",
    "Idea: The battery only discharges after a certain hour in the day (to optimize for peak pricing) and when the 2 day ahead solar forecast is above a certain minimum. Also, the battery charge must be greater than the SOCr value plus the unserved load.\n",
    "<br><br>\n",
    "Pseudocode: \n",
    "\n",
    "```\n",
    "If (After certain hour of the day (discharge threshold) AND\n",
    "    2 day solar forecast must be greater than certain amount AND\n",
    "    Battery discharge potential greater than SOCr and unserved load):\n",
    "    \n",
    "    return unserved load amount\n",
    "    \n",
    "Else\n",
    "\n",
    "    return 0\n",
    "```"
   ]
  },
  {
   "cell_type": "code",
   "execution_count": 101,
   "metadata": {},
   "outputs": [],
   "source": [
    "def battery_to_load_old(i):\n",
    "    if ((model['datetime'][i - 1].hour >= hold_battery_discharge_until) and\n",
    "        (model['two_day_forecast'][i - 1] > minimum_forecast_battery_discharge) and\n",
    "        (battery_discharge_potential[i] > (model['unserved_load'][i - 1] + model['old_socr'][i - 1]))):\n",
    "        \n",
    "        return model['unserved_load'][i - 1]\n",
    "        \n",
    "    else:\n",
    "        return 0"
   ]
  },
  {
   "cell_type": "markdown",
   "metadata": {},
   "source": [
    "### New Calculation\n",
    "Changes: The 2 day ahead solar forecast isn't necessary. Also, the battery should be able to charge power the load partially even if it can't power the full load in that interval. Also we need to account for the maximum battery export (typically this is not a problem, but a good safety to add.)\n",
    "\n",
    "Idea: The battery only discharges after a certain hour in the day (to optimize for peak pricing). Also, the battery can only use capacity greater than its SOCr.\n",
    "<br><br>\n",
    "Pseudocode: \n",
    "\n",
    "```\n",
    "If (After certain hour of the day (discharge threshold) AND\n",
    "    usable battery SOC is greater than SOCr):\n",
    "    \n",
    "    return min(unserved load amount, usable battery SOC in excess of SOCr, maximum interval export threshold)\n",
    "    \n",
    "Else\n",
    "\n",
    "    return 0\n",
    "```"
   ]
  },
  {
   "cell_type": "code",
   "execution_count": 102,
   "metadata": {},
   "outputs": [],
   "source": [
    "def battery_to_load_new(i):\n",
    "    if ((model['datetime'][i - 1].hour >= hold_battery_discharge_until) and\n",
    "        (battery_discharge_potential[i] > (model['unserved_load'][i - 1] + model['old_socr'][i - 1]))):\n",
    "        \n",
    "        return min(model['unserved_load'][i - 1], (battery_discharge_potential[i] - model['old_socr'][i - 1]),\n",
    "                  battery_max_export_15min)\n",
    "        \n",
    "    else:\n",
    "        return 0"
   ]
  },
  {
   "cell_type": "markdown",
   "metadata": {},
   "source": [
    "## Battery to Grid\n",
    "After the battery powers the load, we may want to export battery power to the grid under certain conditions. Again, this is the result of design choices. Currently, we can decide whether to only export in the summer, and during peak hours, so we need to make some initial calculations first:"
   ]
  },
  {
   "cell_type": "markdown",
   "metadata": {},
   "source": [
    "### Peak Period"
   ]
  },
  {
   "cell_type": "code",
   "execution_count": 103,
   "metadata": {},
   "outputs": [],
   "source": [
    "def is_peak(row):\n",
    "    return row['datetime'].hour >= start_peak_time_of_use and row['datetime'].hour < end_peak_time_of_use\n",
    "\n",
    "model['is_peak'] = model.apply(lambda row : is_peak(row), axis=1)"
   ]
  },
  {
   "cell_type": "markdown",
   "metadata": {},
   "source": [
    "### 2 Day Ahead Solar Forecast"
   ]
  },
  {
   "cell_type": "code",
   "execution_count": 104,
   "metadata": {},
   "outputs": [],
   "source": [
    "two_day_intervals = 192\n",
    "\n",
    "model['two_day_forecast'] = (\n",
    "    model['pv_generation']\n",
    "    .iloc[::-1].rolling(two_day_intervals, min_periods=1)\n",
    "    .sum().iloc[::-1])"
   ]
  },
  {
   "cell_type": "markdown",
   "metadata": {},
   "source": [
    "### Peak Intervals Left\n",
    "Intervals left in peak period"
   ]
  },
  {
   "cell_type": "code",
   "execution_count": 105,
   "metadata": {},
   "outputs": [],
   "source": [
    "def peak_intervals_left(row):\n",
    "    if is_peak(row):\n",
    "        return round(((end_peak_time_of_use - row['datetime'].hour) * 4) - (row['datetime'].minute / 15), 0)\n",
    "    else:\n",
    "        return 0\n",
    "        \n",
    "\n",
    "model['peak_intervals_left'] = model.apply(lambda row : peak_intervals_left(row), axis=1)"
   ]
  },
  {
   "cell_type": "markdown",
   "metadata": {},
   "source": [
    "### Is it Summer?\n",
    "Determine if it is summer for battery export to grid"
   ]
  },
  {
   "cell_type": "code",
   "execution_count": 106,
   "metadata": {},
   "outputs": [],
   "source": [
    "summer_start = pd.to_datetime('20190601', format='%Y%m%d', errors='ignore')\n",
    "summer_end = pd.to_datetime('20190901', format='%Y%m%d', errors='ignore')\n",
    "\n",
    "model['is_summer'] = ((model['datetime'] >= summer_start) & (model['datetime'] < summer_end))"
   ]
  },
  {
   "cell_type": "markdown",
   "metadata": {},
   "source": [
    "### Current Calculation\n",
    "\n",
    "Idea: We can set the model to only export during the summer. We also only export during a peak period during the day (for best prices), we only export when PV to grid export is less than a certain amount, when the 2 day ahead forecast is above a certain amount, and when the battery charge is sufficient to maintain SOCr and cover any unserved loads.\n",
    "\n",
    "Currently, we also distribute how we export energy over the remaining peak intervals. This doesn't make too much sense since the battery can continue to get charged in the remaining peak period. \n",
    "\n",
    "Also, we currently split the calculation into battery to grid desired and battery to grid actual (accounting for the discharge losses) which is unnecessary.\n",
    "\n",
    "Pseudocode:\n",
    "```\n",
    "If Battery only exports in summer peak:\n",
    "    If not peak period:\n",
    "        return 0\n",
    "    else:\n",
    "        if (it is summer AND\n",
    "             battery SOC > SOCr + unserved load AND\n",
    "             2 day solar forecast > threshhold AND\n",
    "             PV to Grid export less than threshhold):\n",
    "             \n",
    "            return SOC - SOCr - battery to load / timestamp left in peak period\n",
    "        else\n",
    "            return 0\n",
    "else:\n",
    "    if not peak period:\n",
    "        return 0\n",
    "    else:\n",
    "        if (SOC > battery to load + SOCr AND\n",
    "            2 day solar forecast > threshhold AND\n",
    "            PV to Grid export less than threshhold):\n",
    "            \n",
    "            return SOC - SOCr - battery to load / timestamp left in peak period\n",
    "        else:\n",
    "            \n",
    "            return 0\n",
    "            \n",
    "```"
   ]
  },
  {
   "cell_type": "markdown",
   "metadata": {},
   "source": [
    "### Optimization\n",
    "\n",
    "We can optimize and simplify this same logic significantly. Here is an optimized version that does the same thing.\n",
    "        \n",
    "Pseudocode:\n",
    "\n",
    "```\n",
    "if ((!summer_peak or summer) AND\n",
    "    peak period AND\n",
    "    SOC > battery to load + SOCr AND\n",
    "    2 day solar forecast > threshhold AND\n",
    "    PV to Grid export less than threshhold):\n",
    "    \n",
    "    return SOC - SOCr - battery to load / timestamp left in peak period\n",
    "\n",
    "else\n",
    "\n",
    "    return 0\n",
    "```"
   ]
  },
  {
   "cell_type": "code",
   "execution_count": 107,
   "metadata": {},
   "outputs": [],
   "source": [
    "def get_battery_to_grid_desired(i):\n",
    "    \n",
    "    if (i == 1):\n",
    "        previous_pv_to_battery = pv_to_battery_initial\n",
    "    else:\n",
    "        previous_pv_to_battery = pv_to_battery[i - 1]\n",
    "\n",
    "    if (((not export_only_during_summer) or model['is_summer'][i - 1]) and\n",
    "        model['is_peak'][i - 1] and\n",
    "        (battery_SOC[i] > (battery_to_load[i] + model['old_socr'][i - 1])) and\n",
    "        (model['two_day_forecast'][i - 1] > minimum_forecast_battery_discharge) and\n",
    "        (previous_pv_to_battery < pv_to_grid_export_threshold)):\n",
    "        \n",
    "        return ((battery_SOC[i] - model['old_socr'][i - 1]\n",
    "                 - battery_to_load[i]) / model['peak_intervals_left'][i - 1])\n",
    "        \n",
    "    else:\n",
    "        \n",
    "        return 0\n",
    "    \n",
    "def get_battery_to_grid_actual(i):\n",
    "    \n",
    "    return (max(0, min((battery_to_grid_desired[i] - battery_to_load[i]), battery_max_export_15min)))"
   ]
  },
  {
   "cell_type": "markdown",
   "metadata": {},
   "source": [
    "### New Calculation\n",
    "Changes: \n",
    "\n",
    "1. The 2 day ahead solar forecast isn't necessary.\n",
    "2. We currently have a bug and look at pv to battery instead of pv to grid\n",
    "3. We need to look at usable Battery SOC, not the ideal SOC when determining if we have sufficient power to export\n",
    "4. We should just export as much as we can in any given interval rather than trying to split the battery amount by peak period intervals remaining.\n",
    "\n",
    "Idea: We can set the model to only export during the summer. We also only export during a peak period during the day (for best prices), we only export when PV to grid export is less than a certain amount, and when the battery charge is sufficient to maintain SOCr and cover any unserved loads.\n",
    "\n",
    "We export as much excess battery power as we can (considering battyer max export amounts)\n",
    "\n",
    "\n",
    "Pseudocode:\n",
    "\n",
    "```\n",
    "if ((!summer_peak or summer) AND\n",
    "    peak period AND\n",
    "    SOC > battery to load + SOCr AND\n",
    "    PV to Grid export less than threshhold):\n",
    "    \n",
    "    return min(SOC - SOCr - battery to load, maximum interval export threshold)\n",
    "\n",
    "else\n",
    "\n",
    "    return 0\n",
    "```"
   ]
  },
  {
   "cell_type": "code",
   "execution_count": 108,
   "metadata": {},
   "outputs": [],
   "source": [
    "def get_battery_to_grid_new(i):\n",
    "\n",
    "    if (((not export_only_during_summer) or model['is_summer'][i - 1]) and\n",
    "        model['is_peak'][i - 1] and\n",
    "        (battery_discharge_potential[i] > (battery_to_load[i] + model['old_socr'][i - 1])) and\n",
    "        (pv_to_battery[i - 1] < pv_to_grid_export_threshold)):\n",
    "        \n",
    "        return min((battery_SOC[i] - model['old_socr'][i - 1] - battery_to_load[i]), battery_max_export_15min)\n",
    "        \n",
    "    else:\n",
    "        \n",
    "        return 0"
   ]
  },
  {
   "cell_type": "markdown",
   "metadata": {},
   "source": [
    "## PV to Battery\n",
    "\n",
    "Basically, any excess solar generation (after it meets electrical loads) should charge the battery before being exported to the grid. \n",
    "\n",
    "### Current Calculation\n",
    "\n",
    "Idea: We first check and see if the battery has been fully charged today. "
   ]
  },
  {
   "cell_type": "markdown",
   "metadata": {},
   "source": [
    "#### Did battery reach max today?\n",
    "Current Logic:\n",
    "```\n",
    "If 12am:\n",
    "\n",
    "    False\n",
    "    \n",
    "Else:\n",
    "\n",
    "    return (Battery SOC % > 99% OR previous interval was True)\n",
    "    \n",
    "```"
   ]
  },
  {
   "cell_type": "code",
   "execution_count": 109,
   "metadata": {},
   "outputs": [],
   "source": [
    "def did_battery_reach_peak_today(i):\n",
    "\n",
    "    return (not((model['datetime'][i - 1].hour == 0) and (model['datetime'][i - 1].minute == 0)) and\n",
    "           (((battery_SOC[i] / battery_capacity) > 0.99) or (battery_reached_peak_today[i - 1] == True)))"
   ]
  },
  {
   "cell_type": "markdown",
   "metadata": {},
   "source": [
    "#### Transfer Excess PV to Battery\n",
    "\n",
    "Then any excess pv is transferred to the battery (keeping in mind the maximum export limit of the battery).\n",
    "\n",
    "**Current Logic:**\n",
    "```\n",
    "\n",
    "If (SOCr not reached max today):\n",
    "\n",
    "    If ((Battery SOC - battery to load - battery to grid + excess pv <= battery capacity) OR\n",
    "        (Battery SOC - battery to load - battery to grid + battery max 15 min export capacity <=\n",
    "        battery capacity)):\n",
    "        \n",
    "        return max(0, min(excess pv, battery max 15 min export capacity))\n",
    "        \n",
    "    Else:\n",
    "    \n",
    "        return max(battery capacity - battery SOC - battery to load - battery to grid)\n",
    "        \n",
    "Else:\n",
    "\n",
    "    return 0\n",
    "```\n",
    "\n",
    "**Optimitized Logic**\n",
    "```\n",
    "If (SOCr not reached max today):\n",
    "\n",
    "    min(excess pv, battery max 15 min export capacity,\n",
    "    (battery capacity - battery SOC - battery to load - battery to grid))\n",
    "\n",
    "Else:\n",
    "\n",
    "    return 0   \n",
    "    \n",
    "```"
   ]
  },
  {
   "cell_type": "code",
   "execution_count": 110,
   "metadata": {},
   "outputs": [],
   "source": [
    "def get_pv_to_battery(i):\n",
    "\n",
    "    if not battery_reached_peak_today[i]:\n",
    "        \n",
    "        return min(model['excess_pv'][i - 1], battery_max_export_15min,\n",
    "                   (battery_capacity - battery_SOC[i] - battery_to_load[i] - battery_to_grid[i]))\n",
    "        \n",
    "    else: \n",
    "        return 0"
   ]
  },
  {
   "cell_type": "markdown",
   "metadata": {},
   "source": [
    "### New Calculation\n",
    "Changes: \n",
    "\n",
    "1. Optimize the logic\n",
    "2. Remove the check for whether SOC reached its max today. This is unnecessary, since we can look at the battery SOC at every interval directly.\n",
    "\n",
    "Idea: Any excess solar generation, after it has met electrical loads, should be transfered to the battery. So, we charge the battery as much as we can with excess pv, considering remaining battery space and max import restrictions in thatr interval.\n",
    "\n",
    "Pseudocode:\n",
    "```\n",
    "Return  max(0, min(excess pv, battery max 15 min export capacity,\n",
    "                (battery capacity - battery SOC - battery to load - battery to grid)))\n",
    "```"
   ]
  },
  {
   "cell_type": "markdown",
   "metadata": {},
   "source": [
    "## Battery charge from PV\n",
    "We need to account for the fact that there is a loss of energy when the battery is charged\n",
    "\n",
    "Logic: Battery charge from PV is PV power to battery minus charging losses"
   ]
  },
  {
   "cell_type": "code",
   "execution_count": 111,
   "metadata": {},
   "outputs": [],
   "source": [
    "def get_battery_charge_from_pv(i):\n",
    "    return pv_to_battery[i] * (1 - battery_charging_loss)"
   ]
  },
  {
   "cell_type": "code",
   "execution_count": 112,
   "metadata": {},
   "outputs": [],
   "source": [
    "length = len(model)\n",
    "battery_to_load = np.empty(length + 1)\n",
    "battery_to_grid = np.empty(length + 1)\n",
    "battery_to_grid_desired = np.empty(length + 1)\n",
    "pv_to_battery = np.empty(length + 1)\n",
    "battery_charge_from_pv = np.empty(length + 1)\n",
    "battery_SOC = np.empty(length + 1)\n",
    "battery_discharge_potential = np.empty(length + 1)\n",
    "battery_reached_peak_today = np.empty(len(model) + 1)\n",
    "\n",
    "battery_soc_initial = 0\n",
    "pv_to_battery_initial = 0\n",
    "\n",
    "# initial values\n",
    "battery_to_load[0] = 0\n",
    "battery_to_grid[0] = 0\n",
    "battery_to_grid_desired[0] = 0\n",
    "pv_to_battery[0] = 0\n",
    "battery_charge_from_pv[0] = 0\n",
    "battery_SOC[0] = 91.36\n",
    "battery_discharge_potential[0] = battery_SOC[0] * (1 - battery_discharging_loss)\n",
    "battery_reached_peak_today[0] = False\n",
    "\n",
    "for i in range(len(model)):\n",
    "    # battery SOC\n",
    "    #battery_SOC[i + 1] = (battery_SOC[i]\n",
    "     #                 - battery_to_load[i]\n",
    "      #                - battery_to_grid[i]\n",
    "       #               + battery_charge_from_pv[i])\n",
    "    \n",
    "    battery_SOC[i + 1] = get_battery_soc(i + 1)\n",
    "    \n",
    "    #battery_discharge_potential[i + 1] = battery_SOC[i + 1] * (1 - battery_discharging_loss)\n",
    "    \n",
    "    battery_discharge_potential[i + 1] = get_battery_soc_usable(i + 1)\n",
    "    \n",
    "    # calculate battery charge to load\n",
    "    #if ((model['datetime'][i].hour >= hold_battery_discharge_until) and\n",
    "    #    (model['two_day_forecast'][i] > minimum_forecast_battery_discharge) and\n",
    "    #    (battery_discharge_potential[i + 1] > (model['unserved_load'][i] + model['old_socr'][i]))):\n",
    "        \n",
    "    #    battery_to_load[i + 1] = model['unserved_load'][i]\n",
    "        \n",
    "    #else:\n",
    "    #    battery_to_load[i + 1] = 0\n",
    "        \n",
    "    battery_to_load[i + 1] = battery_to_load_old(i + 1)\n",
    "        \n",
    "    # calculate battery to grid desired\n",
    "    #if (((not export_only_during_summer) or model['is_summer'][i]) and\n",
    "    #    model['is_peak'][i] and\n",
    "    #    (battery_SOC[i + 1] > (battery_to_load[i + 1] + model['old_socr'][i])) and\n",
    "    #    (model['two_day_forecast'][i] > minimum_forecast_battery_discharge) and\n",
    "    #    (pv_to_battery[i] < pv_to_grid_export_threshold)):\n",
    "    #    \n",
    "    #    battery_to_grid_desired[i + 1] = ((battery_SOC[i + 1] - model['old_socr'][i]\n",
    "            #                               - battery_to_load[i + 1]) / model['peak_intervals_left'][i])\n",
    "        \n",
    "    #else:\n",
    "        \n",
    "    #    battery_to_grid_desired[i + 1] = 0\n",
    "        \n",
    "    battery_to_grid_desired[i + 1] = get_battery_to_grid_desired(i + 1)\n",
    "    \n",
    "    # calculate actual battery to grid\n",
    "    #battery_to_grid[i + 1] = (max(0, min((battery_to_grid_desired[i + 1] - battery_to_load[i + 1]),\n",
    "     #                                    battery_max_export_15min)))\n",
    "    \n",
    "    battery_to_grid[i + 1] = get_battery_to_grid_actual(i + 1)\n",
    "    \n",
    "    \n",
    "    # did battery reach peak today\n",
    "    #if (model['datetime'][i].hour == 0 and model['datetime'][i].minute == 0):\n",
    "    #    battery_reached_peak_today[i + 1] = False\n",
    "    #else:\n",
    "    #    battery_reached_peak_today[i + 1] = (((battery_SOC[i + 1] / battery_capacity) > 0.99) or\n",
    "     #                                        (battery_reached_peak_today[i] == True))\n",
    "        \n",
    "    battery_reached_peak_today[i + 1] = did_battery_reach_peak_today(i + 1)\n",
    "     \n",
    "    \n",
    "    # calculate pv to battery\n",
    "    #if not battery_reached_peak_today[i + 1]:\n",
    "        \n",
    "    #    pv_to_battery[i + 1] = min(model['excess_pv'][i], battery_max_export_15min,\n",
    "     #                              (battery_capacity - battery_SOC[i + 1] -\n",
    "      #                              battery_to_load[ i + 1] - battery_to_grid[i + 1]))\n",
    "        \n",
    "    #else:\n",
    "        \n",
    "     #   pv_to_battery[i + 1] = 0\n",
    "        \n",
    "    pv_to_battery[i + 1] = get_pv_to_battery(i + 1)\n",
    "\n",
    "    # calculate battery charge from pv\n",
    "    #battery_charge_from_pv[i + 1] = pv_to_battery[i + 1] * (1 - battery_charging_loss)\n",
    "    \n",
    "    battery_charge_from_pv[i + 1] = get_battery_charge_from_pv(i + 1)"
   ]
  },
  {
   "cell_type": "code",
   "execution_count": 113,
   "metadata": {},
   "outputs": [],
   "source": [
    "model['battery_to_load'] = battery_to_load[1:]\n",
    "model['battery_to_grid'] = battery_to_grid[1:]\n",
    "model['battery_to_grid_desired'] = battery_to_grid_desired[1:]\n",
    "model['pv_to_battery'] = pv_to_battery[1:]\n",
    "model['battery_charge_from_pv'] = battery_charge_from_pv[1:]\n",
    "model['battery_SOC'] = battery_SOC[1:]\n",
    "model['battery_discharge_potential'] = battery_discharge_potential[1:]\n",
    "model['battery_reached_peak_today'] = battery_reached_peak_today[1:]"
   ]
  },
  {
   "cell_type": "code",
   "execution_count": 114,
   "metadata": {},
   "outputs": [
    {
     "data": {
      "text/html": [
       "<div>\n",
       "<style scoped>\n",
       "    .dataframe tbody tr th:only-of-type {\n",
       "        vertical-align: middle;\n",
       "    }\n",
       "\n",
       "    .dataframe tbody tr th {\n",
       "        vertical-align: top;\n",
       "    }\n",
       "\n",
       "    .dataframe thead th {\n",
       "        text-align: right;\n",
       "    }\n",
       "</style>\n",
       "<table border=\"1\" class=\"dataframe\">\n",
       "  <thead>\n",
       "    <tr style=\"text-align: right;\">\n",
       "      <th></th>\n",
       "      <th>datetime</th>\n",
       "      <th>pv_generation_kw</th>\n",
       "      <th>pv_generation</th>\n",
       "      <th>load</th>\n",
       "      <th>is_battery_needed</th>\n",
       "      <th>old_socr</th>\n",
       "      <th>new_socr</th>\n",
       "      <th>pv_to_load</th>\n",
       "      <th>unserved_load</th>\n",
       "      <th>excess_pv</th>\n",
       "      <th>...</th>\n",
       "      <th>peak_intervals_left</th>\n",
       "      <th>is_summer</th>\n",
       "      <th>battery_to_load</th>\n",
       "      <th>battery_to_grid</th>\n",
       "      <th>battery_to_grid_desired</th>\n",
       "      <th>pv_to_battery</th>\n",
       "      <th>battery_charge_from_pv</th>\n",
       "      <th>battery_SOC</th>\n",
       "      <th>battery_discharge_potential</th>\n",
       "      <th>battery_reached_peak_today</th>\n",
       "    </tr>\n",
       "  </thead>\n",
       "  <tbody>\n",
       "    <tr>\n",
       "      <th>33230</th>\n",
       "      <td>2019-12-13 03:30:00</td>\n",
       "      <td>0.0</td>\n",
       "      <td>0.0</td>\n",
       "      <td>17.100113</td>\n",
       "      <td>True</td>\n",
       "      <td>33.728262</td>\n",
       "      <td>9.842825</td>\n",
       "      <td>0.0</td>\n",
       "      <td>17.100113</td>\n",
       "      <td>0.0</td>\n",
       "      <td>...</td>\n",
       "      <td>0.0</td>\n",
       "      <td>False</td>\n",
       "      <td>0.0</td>\n",
       "      <td>0.0</td>\n",
       "      <td>0.0</td>\n",
       "      <td>0.0</td>\n",
       "      <td>0.0</td>\n",
       "      <td>40.522612</td>\n",
       "      <td>38.496482</td>\n",
       "      <td>0.0</td>\n",
       "    </tr>\n",
       "  </tbody>\n",
       "</table>\n",
       "<p>1 rows × 22 columns</p>\n",
       "</div>"
      ],
      "text/plain": [
       "                 datetime  pv_generation_kw  pv_generation       load  \\\n",
       "33230 2019-12-13 03:30:00               0.0            0.0  17.100113   \n",
       "\n",
       "       is_battery_needed   old_socr  new_socr  pv_to_load  unserved_load  \\\n",
       "33230               True  33.728262  9.842825         0.0      17.100113   \n",
       "\n",
       "       excess_pv  ...  peak_intervals_left  is_summer  battery_to_load  \\\n",
       "33230        0.0  ...                  0.0      False              0.0   \n",
       "\n",
       "       battery_to_grid  battery_to_grid_desired  pv_to_battery  \\\n",
       "33230              0.0                      0.0            0.0   \n",
       "\n",
       "       battery_charge_from_pv  battery_SOC  battery_discharge_potential  \\\n",
       "33230                     0.0    40.522612                    38.496482   \n",
       "\n",
       "       battery_reached_peak_today  \n",
       "33230                         0.0  \n",
       "\n",
       "[1 rows x 22 columns]"
      ]
     },
     "execution_count": 114,
     "metadata": {},
     "output_type": "execute_result"
    }
   ],
   "source": [
    "model[33230:33231]"
   ]
  }
 ],
 "metadata": {
  "kernelspec": {
   "display_name": "Python 3",
   "language": "python",
   "name": "python3"
  },
  "language_info": {
   "codemirror_mode": {
    "name": "ipython",
    "version": 3
   },
   "file_extension": ".py",
   "mimetype": "text/x-python",
   "name": "python",
   "nbconvert_exporter": "python",
   "pygments_lexer": "ipython3",
   "version": "3.7.6"
  }
 },
 "nbformat": 4,
 "nbformat_minor": 4
}
